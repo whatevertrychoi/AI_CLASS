{
 "cells": [
  {
   "cell_type": "code",
   "execution_count": 1,
   "id": "e2adcd11-521d-44a1-93bd-de6972604d3b",
   "metadata": {},
   "outputs": [],
   "source": [
    "import numpy as np\n",
    "from sklearn.model_selection import train_test_split\n",
    "from sklearn.preprocessing import StandardScaler\n",
    "from tensorflow.keras.utils import to_categorical\n",
    "\n",
    "# 데이터 불러오기\n",
    "data = np.loadtxt(\"seeds.txt\")\n",
    "\n",
    "X = data[:, :-1]\n",
    "y = data[:, -1] - 1  # 클래스가 1, 2, 3이므로 0, 1, 2로 바꿔줌\n",
    "\n",
    "# 표준화\n",
    "scaler = StandardScaler()\n",
    "X = scaler.fit_transform(X)\n",
    "\n",
    "# One-hot 인코딩\n",
    "y = to_categorical(y, num_classes=3)\n",
    "\n",
    "# 데이터 분할\n",
    "X_train, X_test, y_train, y_test = train_test_split(X, y, test_size=0.2, random_state=42)\n"
   ]
  },
  {
   "cell_type": "code",
   "execution_count": null,
   "id": "9f3c59e0-021c-4694-99e7-f9f743284a3d",
   "metadata": {},
   "outputs": [],
   "source": [
    "from tensorflow.keras.models import Sequential\n",
    "from tensorflow.keras.layers import Dense\n",
    "\n",
    "model_seq = Sequential([\n",
    "    Input(shape=(7,)),\n",
    "    Dense(16, activation='relu'), \n",
    "    Dense(8, activation='relu'),\n",
    "    Dense(3, activation='softmax')\n",
    "])\n",
    "\n",
    "model_seq.compile(optimizer='adam', loss='categorical_crossentropy', metrics=['accuracy'])\n",
    "model_seq.fit(X_train, y_train, epochs=50, batch_size=8, verbose=0)\n",
    "\n",
    "seq_loss, seq_acc = model_seq.evaluate(X_test, y_test, verbose=0)\n",
    "print(f\"Sequential 모델 정확도: {seq_acc:.4f}\")\n"
   ]
  },
  {
   "cell_type": "code",
   "execution_count": 3,
   "id": "ae33692e-60be-42ec-a4cb-6f059bfcb84e",
   "metadata": {},
   "outputs": [
    {
     "name": "stdout",
     "output_type": "stream",
     "text": [
      "Functional 모델 정확도: 0.8810\n"
     ]
    }
   ],
   "source": [
    "from tensorflow.keras.models import Model\n",
    "from tensorflow.keras.layers import Input, Dense\n",
    "\n",
    "inputs = Input(shape=(7,))\n",
    "x = Dense(16, activation='relu')(inputs)\n",
    "x = Dense(8, activation='relu')(x)\n",
    "outputs = Dense(3, activation='softmax')(x)\n",
    "\n",
    "model_func = Model(inputs=inputs, outputs=outputs)\n",
    "model_func.compile(optimizer='adam', loss='categorical_crossentropy', metrics=['accuracy'])\n",
    "model_func.fit(X_train, y_train, epochs=50, batch_size=8, verbose=0)\n",
    "\n",
    "func_loss, func_acc = model_func.evaluate(X_test, y_test, verbose=0)\n",
    "print(f\"Functional 모델 정확도: {func_acc:.4f}\")\n"
   ]
  },
  {
   "cell_type": "code",
   "execution_count": 4,
   "id": "abfe5f5f-ea5b-475d-86f9-5d7e2926a2de",
   "metadata": {},
   "outputs": [
    {
     "name": "stdout",
     "output_type": "stream",
     "text": [
      "Subclassing 모델 정확도: 0.8810\n"
     ]
    }
   ],
   "source": [
    "from tensorflow.keras import Model\n",
    "from tensorflow.keras.layers import Dense\n",
    "\n",
    "class MyModel(Model):\n",
    "    def __init__(self):\n",
    "        super(MyModel, self).__init__()\n",
    "        self.d1 = Dense(16, activation='relu')\n",
    "        self.d2 = Dense(8, activation='relu')\n",
    "        self.d3 = Dense(3, activation='softmax')\n",
    "    \n",
    "    def call(self, x):\n",
    "        x = self.d1(x)\n",
    "        x = self.d2(x)\n",
    "        return self.d3(x)\n",
    "\n",
    "model_class = MyModel()\n",
    "model_class.compile(optimizer='adam', loss='categorical_crossentropy', metrics=['accuracy'])\n",
    "model_class.fit(X_train, y_train, epochs=50, batch_size=8, verbose=0)\n",
    "\n",
    "class_loss, class_acc = model_class.evaluate(X_test, y_test, verbose=0)\n",
    "print(f\"Subclassing 모델 정확도: {class_acc:.4f}\")\n"
   ]
  },
  {
   "cell_type": "code",
   "execution_count": null,
   "id": "b19f8874-b1c6-4310-87f9-6639aedec307",
   "metadata": {},
   "outputs": [],
   "source": []
  }
 ],
 "metadata": {
  "kernelspec": {
   "display_name": "Python 3 (ipykernel)",
   "language": "python",
   "name": "python3"
  },
  "language_info": {
   "codemirror_mode": {
    "name": "ipython",
    "version": 3
   },
   "file_extension": ".py",
   "mimetype": "text/x-python",
   "name": "python",
   "nbconvert_exporter": "python",
   "pygments_lexer": "ipython3",
   "version": "3.12.3"
  }
 },
 "nbformat": 4,
 "nbformat_minor": 5
}
