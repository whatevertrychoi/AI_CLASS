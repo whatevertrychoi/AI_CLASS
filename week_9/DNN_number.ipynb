{
 "cells": [
  {
   "cell_type": "code",
   "execution_count": 7,
   "id": "4dac6944-32c0-42b4-8de2-baf344116f42",
   "metadata": {},
   "outputs": [
    {
     "name": "stdout",
     "output_type": "stream",
     "text": [
      "[Epoch 1] Loss: 314.5197\n"
     ]
    },
    {
     "data": {
      "image/png": "[encoded data removed]",
      "text/plain": [
       "<Figure size 640x480 with 1 Axes>"
      ]
     },
     "metadata": {},
     "output_type": "display_data"
    }
   ],
   "source": [
    "import torch\n",
    "import torch.nn as nn\n",
    "import torch.nn.functional as F\n",
    "import torch.optim as optim\n",
    "import numpy as np\n",
    "import matplotlib.pyplot as plt\n",
    "from keras.datasets import mnist\n",
    "from torchvision import transforms\n",
    "from torch.utils.data import DataLoader, TensorDataset\n",
    "\n",
    "# ✅ 장치 설정\n",
    "device = torch.device(\"cuda\" if torch.cuda.is_available() else \"cpu\")\n",
    "\n",
    "# ✅ 1. MNIST 데이터 로딩 (keras)\n",
    "(x_train, y_train), (x_test, y_test) = mnist.load_data()\n",
    "x_train = x_train.astype(np.float32) / 255.0\n",
    "x_test = x_test.astype(np.float32) / 255.0\n",
    "\n",
    "# ✅ 2. PyTorch Tensor 변환 및 reshape\n",
    "x_train_tensor = torch.tensor(x_train).unsqueeze(1)  # (N, 1, 28, 28)\n",
    "x_test_tensor = torch.tensor(x_test).unsqueeze(1)\n",
    "y_train_tensor = torch.tensor(y_train, dtype=torch.long)\n",
    "y_test_tensor = torch.tensor(y_test, dtype=torch.long)\n",
    "\n",
    "# ✅ 3. DataLoader 생성\n",
    "batch_size = 128\n",
    "train_loader = DataLoader(TensorDataset(x_train_tensor, y_train_tensor), batch_size=batch_size, shuffle=True)\n",
    "test_loader = DataLoader(TensorDataset(x_test_tensor, y_test_tensor), batch_size=batch_size)\n",
    "\n",
    "# ✅ 4. DNN 모델 정의 (Softmax 제거됨)\n",
    "class DNN(nn.Module):\n",
    "    def __init__(self):\n",
    "        super(DNN, self).__init__()\n",
    "        self.flatten = nn.Flatten()\n",
    "        self.fc1 = nn.Linear(28*28, 256)\n",
    "        self.fc2 = nn.Linear(256, 128)\n",
    "        self.fc3 = nn.Linear(128, 64)\n",
    "        self.fc4 = nn.Linear(64, 32)\n",
    "        self.fc5 = nn.Linear(32, 16)\n",
    "        self.fc6 = nn.Linear(16, 10)\n",
    "\n",
    "    def forward(self, x):\n",
    "        x = self.flatten(x)\n",
    "        x = F.relu(self.fc1(x))\n",
    "        x = F.relu(self.fc2(x))\n",
    "        x = F.relu(self.fc3(x))\n",
    "        x = F.relu(self.fc4(x))\n",
    "        x = F.relu(self.fc5(x))\n",
    "        x = self.fc6(x)  # ❌ Softmax 없음!\n",
    "        return x\n",
    "\n",
    "# ✅ 5. 모델 학습\n",
    "model = DNN().to(device)\n",
    "optimizer = optim.Adam(model.parameters(), lr=0.001)\n",
    "criterion = nn.CrossEntropyLoss()\n",
    "\n",
    "model.train()\n",
    "for epoch in range(1):\n",
    "    total_loss = 0\n",
    "    for images, labels in train_loader:\n",
    "        images, labels = images.to(device), labels.to(device)\n",
    "        optimizer.zero_grad()\n",
    "        outputs = model(images)\n",
    "        loss = criterion(outputs, labels)\n",
    "        loss.backward()\n",
    "        optimizer.step()\n",
    "        total_loss += loss.item()\n",
    "    print(f\"[Epoch {epoch+1}] Loss: {total_loss:.4f}\")\n",
    "\n",
    "# ✅ 6. 예측 함수 정의 (정규화 포함)\n",
    "def predict_number(image_tensor):\n",
    "    image_tensor = transforms.Normalize((0.5,), (0.5,))(image_tensor)  # ✅ 정규화\n",
    "    image_tensor = image_tensor.unsqueeze(0).to(device)  # (1, 1, 28, 28)\n",
    "    model.eval()  # ✅ 평가 모드 설정\n",
    "    with torch.no_grad():\n",
    "        output = model(image_tensor)\n",
    "        pred_label = torch.argmax(output).item()\n",
    "    return pred_label\n",
    "\n",
    "# ✅ 7. 테스트 이미지 시각화 및 예측\n",
    "index = 0  # 예측할 이미지 번호\n",
    "sample_image = x_test_tensor[index]\n",
    "true_label = y_test[index]\n",
    "predicted_label = predict_number(sample_image)\n",
    "\n",
    "# ✅ 8. 결과 출력\n",
    "plt.imshow(x_test[index], cmap='gray')\n",
    "plt.title(f\"True Label: {true_label} | Predicted: {predicted_label}\")\n",
    "plt.axis('off')\n",
    "plt.show()\n"
   ]
  }
 ],
 "metadata": {
  "kernelspec": {
   "display_name": "Python 3 (ipykernel)",
   "language": "python",
   "name": "python3"
  },
  "language_info": {
   "codemirror_mode": {
    "name": "ipython",
    "version": 3
   },
   "file_extension": ".py",
   "mimetype": "text/x-python",
   "name": "python",
   "nbconvert_exporter": "python",
   "pygments_lexer": "ipython3",
   "version": "3.12.3"
  }
 },
 "nbformat": 4,
 "nbformat_minor": 5
}
