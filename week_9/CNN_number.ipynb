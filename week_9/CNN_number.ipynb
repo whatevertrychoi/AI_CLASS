{
 "cells": [
  {
   "cell_type": "code",
   "execution_count": 2,
   "id": "c1b05c75-edfc-4c56-a9a5-d2cc9f4124e1",
   "metadata": {},
   "outputs": [
    {
     "name": "stdout",
     "output_type": "stream",
     "text": [
      "Epoch 1/10\n",
      "\u001b[1m469/469\u001b[0m \u001b[32m━━━━━━━━━━━━━━━━━━━━\u001b[0m\u001b[37m\u001b[0m \u001b[1m10s\u001b[0m 16ms/step - accuracy: 0.8653 - loss: 0.4654\n",
      "Epoch 2/10\n",
      "\u001b[1m469/469\u001b[0m \u001b[32m━━━━━━━━━━━━━━━━━━━━\u001b[0m\u001b[37m\u001b[0m \u001b[1m8s\u001b[0m 18ms/step - accuracy: 0.9842 - loss: 0.0519\n",
      "Epoch 3/10\n",
      "\u001b[1m469/469\u001b[0m \u001b[32m━━━━━━━━━━━━━━━━━━━━\u001b[0m\u001b[37m\u001b[0m \u001b[1m9s\u001b[0m 19ms/step - accuracy: 0.9890 - loss: 0.0365\n",
      "Epoch 4/10\n",
      "\u001b[1m469/469\u001b[0m \u001b[32m━━━━━━━━━━━━━━━━━━━━\u001b[0m\u001b[37m\u001b[0m \u001b[1m9s\u001b[0m 19ms/step - accuracy: 0.9924 - loss: 0.0250\n",
      "Epoch 5/10\n",
      "\u001b[1m469/469\u001b[0m \u001b[32m━━━━━━━━━━━━━━━━━━━━\u001b[0m\u001b[37m\u001b[0m \u001b[1m9s\u001b[0m 19ms/step - accuracy: 0.9934 - loss: 0.0207\n",
      "Epoch 6/10\n",
      "\u001b[1m469/469\u001b[0m \u001b[32m━━━━━━━━━━━━━━━━━━━━\u001b[0m\u001b[37m\u001b[0m \u001b[1m9s\u001b[0m 20ms/step - accuracy: 0.9944 - loss: 0.0164\n",
      "Epoch 7/10\n",
      "\u001b[1m469/469\u001b[0m \u001b[32m━━━━━━━━━━━━━━━━━━━━\u001b[0m\u001b[37m\u001b[0m \u001b[1m9s\u001b[0m 19ms/step - accuracy: 0.9954 - loss: 0.0140\n",
      "Epoch 8/10\n",
      "\u001b[1m469/469\u001b[0m \u001b[32m━━━━━━━━━━━━━━━━━━━━\u001b[0m\u001b[37m\u001b[0m \u001b[1m9s\u001b[0m 19ms/step - accuracy: 0.9967 - loss: 0.0100\n",
      "Epoch 9/10\n",
      "\u001b[1m469/469\u001b[0m \u001b[32m━━━━━━━━━━━━━━━━━━━━\u001b[0m\u001b[37m\u001b[0m \u001b[1m10s\u001b[0m 22ms/step - accuracy: 0.9972 - loss: 0.0082\n",
      "Epoch 10/10\n",
      "\u001b[1m469/469\u001b[0m \u001b[32m━━━━━━━━━━━━━━━━━━━━\u001b[0m\u001b[37m\u001b[0m \u001b[1m16s\u001b[0m 34ms/step - accuracy: 0.9972 - loss: 0.0091\n",
      "313/313 - 2s - 7ms/step - accuracy: 0.9908 - loss: 0.0294\n",
      "테스트 정확도: 0.9908\n"
     ]
    },
    {
     "data": {
      "image/png": "[encoded data removed]",
      "text/plain": [
       "<Figure size 640x480 with 1 Axes>"
      ]
     },
     "metadata": {},
     "output_type": "display_data"
    },
    {
     "name": "stdout",
     "output_type": "stream",
     "text": [
      "예측된 숫자: 7\n",
      "실제 숫자: 7\n",
      "예측 확률 분포: [[2.2621860e-09 2.4181240e-08 1.6573859e-08 1.3323942e-07 2.6548098e-06\n",
      "  2.9270062e-09 8.0601850e-13 9.9999666e-01 1.4852384e-07 3.7822363e-07]]\n",
      "예측 숫자의 확신도: 1.0000\n"
     ]
    }
   ],
   "source": [
    "import tensorflow as tf\n",
    "from tensorflow import keras\n",
    "from tensorflow.keras import layers\n",
    "import numpy as np\n",
    "import matplotlib.pyplot as plt\n",
    "\n",
    "# ✅ MNIST 데이터셋 로드 및 정규화\n",
    "(x_train, y_train), (x_test, y_test) = keras.datasets.mnist.load_data()\n",
    "x_train = x_train.reshape(-1, 28, 28, 1) / 255.0\n",
    "x_test = x_test.reshape(-1, 28, 28, 1) / 255.0\n",
    "\n",
    "# ✅ CNN 모델 구성\n",
    "model = keras.Sequential([\n",
    "    layers.Conv2D(32, (3, 3), activation='relu', input_shape=(28, 28, 1)),\n",
    "    layers.MaxPooling2D((2, 2)),\n",
    "    layers.Conv2D(64, (3, 3), activation='relu'),\n",
    "    layers.MaxPooling2D((2, 2)),\n",
    "    layers.Conv2D(128, (3, 3), activation='relu'),\n",
    "    layers.Flatten(),\n",
    "    layers.Dense(128, activation='relu'),\n",
    "    layers.Dense(10, activation='softmax')\n",
    "])\n",
    "\n",
    "# ✅ 모델 컴파일 및 훈련\n",
    "model.compile(optimizer='adam',\n",
    "              loss='sparse_categorical_crossentropy',\n",
    "              metrics=['accuracy'])\n",
    "\n",
    "model.fit(x_train, y_train, epochs=10, batch_size=128)\n",
    "\n",
    "# ✅ 모델 평가\n",
    "test_loss, test_acc = model.evaluate(x_test, y_test, verbose=2)\n",
    "print(f\"테스트 정확도: {test_acc:.4f}\")\n",
    "\n",
    "# ✅ 숫자 예측 함수 (정규화 중복 제거)\n",
    "def predict_number(image):\n",
    "    image = np.array(image).reshape(1, 28, 28, 1)  # ⚠️ 정규화 생략 (이미 정규화되어 있음)\n",
    "    prediction = model.predict(image, verbose=0)\n",
    "    predicted_label = np.argmax(prediction)\n",
    "    return predicted_label, prediction\n",
    "\n",
    "# ✅ 예제 테스트 (임의의 테스트 이미지 선택)\n",
    "test_image = x_test[0]  # ⚠️ 이미 정규화되어 있음\n",
    "true_label = y_test[0]\n",
    "\n",
    "plt.imshow(test_image.squeeze(), cmap='gray')\n",
    "plt.title(f\"True: {true_label}\")\n",
    "plt.axis('off')\n",
    "plt.show()\n",
    "\n",
    "predicted_number, prediction_probs = predict_number(test_image)\n",
    "print(f\"예측된 숫자: {predicted_number}\")\n",
    "print(f\"실제 숫자: {true_label}\")\n",
    "print(f\"예측 확률 분포: {prediction_probs}\")\n",
    "print(f\"예측 숫자의 확신도: {prediction_probs[0][predicted_number]:.4f}\")\n"
   ]
  },
  {
   "cell_type": "code",
   "execution_count": null,
   "id": "bcb5fe6c-ee8e-4110-acf8-c1cffd54727e",
   "metadata": {},
   "outputs": [],
   "source": []
  }
 ],
 "metadata": {
  "kernelspec": {
   "display_name": "Python 3 (ipykernel)",
   "language": "python",
   "name": "python3"
  },
  "language_info": {
   "codemirror_mode": {
    "name": "ipython",
    "version": 3
   },
   "file_extension": ".py",
   "mimetype": "text/x-python",
   "name": "python",
   "nbconvert_exporter": "python",
   "pygments_lexer": "ipython3",
   "version": "3.12.3"
  }
 },
 "nbformat": 4,
 "nbformat_minor": 5
}
