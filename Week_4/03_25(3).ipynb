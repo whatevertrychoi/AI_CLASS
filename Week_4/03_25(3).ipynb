{
 "cells": [
  {
   "cell_type": "code",
   "execution_count": 1,
   "id": "cd9ca81d-cab4-470f-a65e-8f91bba70ec8",
   "metadata": {},
   "outputs": [
    {
     "name": "stderr",
     "output_type": "stream",
     "text": [
      "C:\\Users\\Minseok\\anaconda3\\Lib\\site-packages\\keras\\src\\layers\\core\\dense.py:87: UserWarning: Do not pass an `input_shape`/`input_dim` argument to a layer. When using Sequential models, prefer using an `Input(shape)` object as the first layer in the model instead.\n",
      "  super().__init__(activity_regularizer=activity_regularizer, **kwargs)\n"
     ]
    },
    {
     "name": "stdout",
     "output_type": "stream",
     "text": [
      "{'Model 1': 0.9722222089767456, 'Model 2': 0.9722222089767456, 'Model 3': 1.0, 'Model 4': 0.9444444179534912}\n"
     ]
    }
   ],
   "source": [
    "from tensorflow.keras.models import Sequential\n",
    "from tensorflow.keras.layers import Dense, Dropout\n",
    "from tensorflow.keras.optimizers import Adam\n",
    "from sklearn.preprocessing import OneHotEncoder, StandardScaler\n",
    "from sklearn.model_selection import train_test_split\n",
    "import numpy as np\n",
    "import pandas as pd\n",
    "\n",
    "# 데이터 로드 및 분리\n",
    "df = pd.read_csv(\"C:/Users/Minseok/AI_CLASS/wine.csv\")\n",
    "\n",
    "# X (특징)과 y (타겟) 분리\n",
    "y = df[\"Wine\"].values  # 타겟 값\n",
    "df = df.drop(columns=[\"Wine\"])  # 타겟을 제외한 특징 데이터\n",
    "X = df.values  # 특징 데이터\n",
    "\n",
    "# 데이터 정규화(03_26 -> 데이터 정규화하는 이유 알아보기)\n",
    "scaler = StandardScaler()\n",
    "X_scaled = scaler.fit_transform(X)\n",
    "\n",
    "# 원-핫 인코딩\n",
    "encoder = OneHotEncoder(sparse_output=False)\n",
    "y_onehot = encoder.fit_transform(y.reshape(-1, 1))\n",
    "\n",
    "# 데이터 분할\n",
    "X_train, X_test, y_train, y_test = train_test_split(X_scaled, y_onehot, test_size=0.2, random_state=42, stratify=y)\n",
    "\n",
    "# 모델 1: 기본 모델 (제공된 코드)\n",
    "def build_model_1():\n",
    "    model = Sequential()\n",
    "    model.add(Dense(10, input_shape=(13,), activation='relu'))\n",
    "    model.add(Dense(8, activation='relu'))\n",
    "    model.add(Dense(6, activation='relu'))\n",
    "    model.add(Dense(3, activation='softmax'))  # 3개의 클래스 출력\n",
    "    model.compile(optimizer=Adam(learning_rate=0.04), loss='categorical_crossentropy', metrics=['accuracy'])\n",
    "    return model\n",
    "\n",
    "# 모델 2: 더 깊은 네트워크\n",
    "def build_model_2():\n",
    "    model = Sequential()\n",
    "    model.add(Dense(16, input_shape=(13,), activation='relu'))\n",
    "    model.add(Dense(12, activation='relu'))\n",
    "    model.add(Dense(8, activation='relu'))\n",
    "    model.add(Dense(6, activation='relu'))\n",
    "    model.add(Dense(3, activation='softmax'))\n",
    "    model.compile(optimizer=Adam(learning_rate=0.02), loss='categorical_crossentropy', metrics=['accuracy'])\n",
    "    return model\n",
    "\n",
    "# 모델 3: 다른 활성화 함수 사용\n",
    "def build_model_3():\n",
    "    model = Sequential()\n",
    "    model.add(Dense(10, input_shape=(13,), activation='tanh'))\n",
    "    model.add(Dense(8, activation='tanh'))\n",
    "    model.add(Dense(6, activation='tanh'))\n",
    "    model.add(Dense(3, activation='softmax'))\n",
    "    model.compile(optimizer=Adam(learning_rate=0.04), loss='categorical_crossentropy', metrics=['accuracy'])\n",
    "    return model\n",
    "\n",
    "# 모델 4: Dropout 추가 (과적합 방지)\n",
    "def build_model_4():\n",
    "    model = Sequential()\n",
    "    model.add(Dense(10, input_shape=(13,), activation='relu'))\n",
    "    model.add(Dropout(0.3))\n",
    "    model.add(Dense(8, activation='relu'))\n",
    "    model.add(Dropout(0.3))\n",
    "    model.add(Dense(6, activation='relu'))\n",
    "    model.add(Dense(3, activation='softmax'))\n",
    "    model.compile(optimizer=Adam(learning_rate=0.04), loss='categorical_crossentropy', metrics=['accuracy'])\n",
    "    return model\n",
    "\n",
    "# 모델 학습 및 평가\n",
    "models = [build_model_1(), build_model_2(), build_model_3(), build_model_4()]\n",
    "results = {}\n",
    "\n",
    "for i, model in enumerate(models, 1):\n",
    "    model.fit(X_train, y_train, epochs=50, batch_size=8, verbose=0, validation_data=(X_test, y_test))\n",
    "    _, test_acc = model.evaluate(X_test, y_test, verbose=0)\n",
    "    results[f\"Model {i}\"] = test_acc\n",
    "\n",
    "print(results)"
   ]
  },
  {
   "cell_type": "code",
   "execution_count": null,
   "id": "223d27a4-2ffe-4d93-839e-317028f167b3",
   "metadata": {},
   "outputs": [],
   "source": []
  }
 ],
 "metadata": {
  "kernelspec": {
   "display_name": "Python 3 (ipykernel)",
   "language": "python",
   "name": "python3"
  },
  "language_info": {
   "codemirror_mode": {
    "name": "ipython",
    "version": 3
   },
   "file_extension": ".py",
   "mimetype": "text/x-python",
   "name": "python",
   "nbconvert_exporter": "python",
   "pygments_lexer": "ipython3",
   "version": "3.12.7"
  }
 },
 "nbformat": 4,
 "nbformat_minor": 5
}
