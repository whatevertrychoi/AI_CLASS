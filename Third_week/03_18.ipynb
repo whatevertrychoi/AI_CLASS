{
 "cells": [
  {
   "cell_type": "code",
   "execution_count": 16,
   "id": "4b7187f5-8259-415f-b166-6c6ff7226ba7",
   "metadata": {},
   "outputs": [
    {
     "data": {
      "text/html": [
       "<div>\n",
       "<style scoped>\n",
       "    .dataframe tbody tr th:only-of-type {\n",
       "        vertical-align: middle;\n",
       "    }\n",
       "\n",
       "    .dataframe tbody tr th {\n",
       "        vertical-align: top;\n",
       "    }\n",
       "\n",
       "    .dataframe thead th {\n",
       "        text-align: right;\n",
       "    }\n",
       "</style>\n",
       "<table border=\"1\" class=\"dataframe\">\n",
       "  <thead>\n",
       "    <tr style=\"text-align: right;\">\n",
       "      <th></th>\n",
       "      <th>vhigh</th>\n",
       "      <th>vhigh.1</th>\n",
       "      <th>2</th>\n",
       "      <th>2.1</th>\n",
       "      <th>small</th>\n",
       "      <th>low</th>\n",
       "      <th>unacc</th>\n",
       "    </tr>\n",
       "  </thead>\n",
       "  <tbody>\n",
       "    <tr>\n",
       "      <th>0</th>\n",
       "      <td>vhigh</td>\n",
       "      <td>vhigh</td>\n",
       "      <td>2</td>\n",
       "      <td>2</td>\n",
       "      <td>small</td>\n",
       "      <td>med</td>\n",
       "      <td>unacc</td>\n",
       "    </tr>\n",
       "    <tr>\n",
       "      <th>1</th>\n",
       "      <td>vhigh</td>\n",
       "      <td>vhigh</td>\n",
       "      <td>2</td>\n",
       "      <td>2</td>\n",
       "      <td>small</td>\n",
       "      <td>high</td>\n",
       "      <td>unacc</td>\n",
       "    </tr>\n",
       "    <tr>\n",
       "      <th>2</th>\n",
       "      <td>vhigh</td>\n",
       "      <td>vhigh</td>\n",
       "      <td>2</td>\n",
       "      <td>2</td>\n",
       "      <td>med</td>\n",
       "      <td>low</td>\n",
       "      <td>unacc</td>\n",
       "    </tr>\n",
       "    <tr>\n",
       "      <th>3</th>\n",
       "      <td>vhigh</td>\n",
       "      <td>vhigh</td>\n",
       "      <td>2</td>\n",
       "      <td>2</td>\n",
       "      <td>med</td>\n",
       "      <td>med</td>\n",
       "      <td>unacc</td>\n",
       "    </tr>\n",
       "    <tr>\n",
       "      <th>4</th>\n",
       "      <td>vhigh</td>\n",
       "      <td>vhigh</td>\n",
       "      <td>2</td>\n",
       "      <td>2</td>\n",
       "      <td>med</td>\n",
       "      <td>high</td>\n",
       "      <td>unacc</td>\n",
       "    </tr>\n",
       "  </tbody>\n",
       "</table>\n",
       "</div>"
      ],
      "text/plain": [
       "   vhigh vhigh.1  2 2.1  small   low  unacc\n",
       "0  vhigh   vhigh  2   2  small   med  unacc\n",
       "1  vhigh   vhigh  2   2  small  high  unacc\n",
       "2  vhigh   vhigh  2   2    med   low  unacc\n",
       "3  vhigh   vhigh  2   2    med   med  unacc\n",
       "4  vhigh   vhigh  2   2    med  high  unacc"
      ]
     },
     "execution_count": 16,
     "metadata": {},
     "output_type": "execute_result"
    }
   ],
   "source": [
    "import pandas as pd\n",
    "import numpy as np\n",
    "from sklearn.model_selection import train_test_split\n",
    "from sklearn.preprocessing import LabelEncoder\n",
    "from sklearn.metrics import accuracy_score, classification_report\n",
    "\n",
    "\n",
    "# 1️⃣ 데이터 로드\n",
    "file_path = \"C:/Users/Minseok/AI_CLASS/car_evaluation.csv\" \n",
    "df = pd.read_csv(file_path) #csv_file load\n",
    "df.head()"
   ]
  },
  {
   "cell_type": "code",
   "execution_count": 17,
   "id": "1135f16b-90d9-4215-8183-5bc76e3e04e4",
   "metadata": {},
   "outputs": [
    {
     "name": "stdout",
     "output_type": "stream",
     "text": [
      "🔍 [결측치 개수 확인]\n",
      "vhigh      0\n",
      "vhigh.1    0\n",
      "2          0\n",
      "2.1        0\n",
      "small      0\n",
      "low        0\n",
      "unacc      0\n",
      "dtype: int64\n"
     ]
    }
   ],
   "source": [
    "# 2️⃣ 결측치 확인\n",
    "print(\"🔍 [결측치 개수 확인]\")\n",
    "print(df.isnull().sum())  # 각 컬럼별 결측치 개수 출력\n"
   ]
  },
  {
   "cell_type": "code",
   "execution_count": 18,
   "id": "d7e373f7-4748-4b55-a636-24aba8d76a13",
   "metadata": {},
   "outputs": [
    {
     "name": "stdout",
     "output_type": "stream",
     "text": [
      "\n",
      "🎯 [타겟 레이블 확인]\n",
      "unacc\n",
      "unacc    1209\n",
      "acc       384\n",
      "good       69\n",
      "vgood      65\n",
      "Name: count, dtype: int64\n"
     ]
    }
   ],
   "source": [
    "# 4️⃣ 레이블 확인 (Survived)\n",
    "print(\"\\n🎯 [타겟 레이블 확인]\")\n",
    "print(df['unacc'].value_counts())  # 생존(1) vs 사망(0) 개수 출력\n"
   ]
  },
  {
   "cell_type": "code",
   "execution_count": 19,
   "id": "dd331cec-67e8-4579-aafc-f7e03575fe84",
   "metadata": {},
   "outputs": [
    {
     "name": "stdout",
     "output_type": "stream",
     "text": [
      "\n",
      "🔄 [변환 전 데이터 확인]\n",
      "   vhigh vhigh.1  2 2.1  small   low  unacc\n",
      "0  vhigh   vhigh  2   2  small   med  unacc\n",
      "1  vhigh   vhigh  2   2  small  high  unacc\n",
      "2  vhigh   vhigh  2   2    med   low  unacc\n",
      "3  vhigh   vhigh  2   2    med   med  unacc\n",
      "4  vhigh   vhigh  2   2    med  high  unacc\n"
     ]
    }
   ],
   "source": [
    "# 6️⃣ 문자 데이터를 숫자로 변환 (변환 전/후 비교)\n",
    "print(\"\\n🔄 [변환 전 데이터 확인]\")\n",
    "print(df.head())  # 변환 전 데이터 확인\n"
   ]
  },
  {
   "cell_type": "code",
   "execution_count": 20,
   "id": "5283acec-4556-4b1b-8c36-3eb065dd0e31",
   "metadata": {},
   "outputs": [],
   "source": [
    "label_encoders = {}  # 각 컬럼별 LabelEncoder 저장용\n",
    "for col in df.select_dtypes(include=['object']).columns:  # 문자열 데이터만 변환\n",
    "    le = LabelEncoder()\n",
    "    df[col] = le.fit_transform(df[col])\n",
    "    label_encoders[col] = le  # 인코더 저장\n"
   ]
  },
  {
   "cell_type": "code",
   "execution_count": 21,
   "id": "31e393de-39b5-49f7-aba9-fbd7556b710e",
   "metadata": {},
   "outputs": [
    {
     "name": "stdout",
     "output_type": "stream",
     "text": [
      "\n",
      "🔄 [변환 후 데이터 확인]\n",
      "   vhigh  vhigh.1  2  2.1  small  low  unacc\n",
      "0      3        3  0    0      2    2      2\n",
      "1      3        3  0    0      2    0      2\n",
      "2      3        3  0    0      1    1      2\n",
      "3      3        3  0    0      1    2      2\n",
      "4      3        3  0    0      1    0      2\n"
     ]
    }
   ],
   "source": [
    "print(\"\\n🔄 [변환 후 데이터 확인]\")\n",
    "print(df.head())  # 변환 후 데이터 확인\n"
   ]
  },
  {
   "cell_type": "code",
   "execution_count": 22,
   "id": "69eeb2f8-a2e8-4f42-9624-cf1da83f4c7e",
   "metadata": {},
   "outputs": [],
   "source": [
    "# 7️⃣ 데이터 분할 (훈련 & 테스트)\n",
    "X = df.drop(columns=['unacc'])  # 입력 변수\n",
    "y = df['unacc']  # 타겟 변수\n"
   ]
  },
  {
   "cell_type": "code",
   "execution_count": 23,
   "id": "a669c316-661a-4df8-8ddc-a0e1c375d168",
   "metadata": {},
   "outputs": [],
   "source": [
    "X_train, X_test, y_train, y_test = train_test_split(X, y, test_size=0.2, random_state=42, stratify=y)"
   ]
  },
  {
   "cell_type": "code",
   "execution_count": 24,
   "id": "a98162f3-b794-42c5-bde0-a972a058856f",
   "metadata": {},
   "outputs": [
    {
     "name": "stdout",
     "output_type": "stream",
     "text": [
      "\n",
      "🏆 [로지스틱 회귀]\n",
      "✅ 정확도: 0.6821\n",
      "              precision    recall  f1-score   support\n",
      "\n",
      "           0       0.26      0.08      0.12        77\n",
      "           1       0.00      0.00      0.00        14\n",
      "           2       0.73      0.94      0.82       242\n",
      "           3       0.18      0.15      0.17        13\n",
      "\n",
      "    accuracy                           0.68       346\n",
      "   macro avg       0.29      0.29      0.28       346\n",
      "weighted avg       0.58      0.68      0.61       346\n",
      "\n"
     ]
    },
    {
     "name": "stderr",
     "output_type": "stream",
     "text": [
      "C:\\Users\\Minseok\\anaconda3\\Lib\\site-packages\\sklearn\\metrics\\_classification.py:1531: UndefinedMetricWarning: Precision is ill-defined and being set to 0.0 in labels with no predicted samples. Use `zero_division` parameter to control this behavior.\n",
      "  _warn_prf(average, modifier, f\"{metric.capitalize()} is\", len(result))\n",
      "C:\\Users\\Minseok\\anaconda3\\Lib\\site-packages\\sklearn\\metrics\\_classification.py:1531: UndefinedMetricWarning: Precision is ill-defined and being set to 0.0 in labels with no predicted samples. Use `zero_division` parameter to control this behavior.\n",
      "  _warn_prf(average, modifier, f\"{metric.capitalize()} is\", len(result))\n",
      "C:\\Users\\Minseok\\anaconda3\\Lib\\site-packages\\sklearn\\metrics\\_classification.py:1531: UndefinedMetricWarning: Precision is ill-defined and being set to 0.0 in labels with no predicted samples. Use `zero_division` parameter to control this behavior.\n",
      "  _warn_prf(average, modifier, f\"{metric.capitalize()} is\", len(result))\n"
     ]
    }
   ],
   "source": [
    "# 1️⃣ 로지스틱 회귀 (Logistic Regression)\n",
    "from sklearn.linear_model import LogisticRegression\n",
    "\n",
    "# 모델 생성 및 학습\n",
    "model_lr = LogisticRegression(max_iter=1000)\n",
    "model_lr.fit(X_train, y_train)\n",
    "\n",
    "# 예측 및 평가\n",
    "y_pred_lr = model_lr.predict(X_test)\n",
    "acc_lr = accuracy_score(y_test, y_pred_lr)\n",
    "\n",
    "print(\"\\n🏆 [로지스틱 회귀]\")\n",
    "print(f\"✅ 정확도: {acc_lr:.4f}\")\n",
    "print(classification_report(y_test, y_pred_lr))"
   ]
  },
  {
   "cell_type": "code",
   "execution_count": 25,
   "id": "0c3eb7d3-73e0-4939-9ad4-682beb3e61f0",
   "metadata": {},
   "outputs": [
    {
     "name": "stdout",
     "output_type": "stream",
     "text": [
      "\n",
      "🌳 [의사결정나무]\n",
      "✅ 정확도: 0.9884\n",
      "              precision    recall  f1-score   support\n",
      "\n",
      "           0       0.96      0.99      0.97        77\n",
      "           1       0.93      1.00      0.97        14\n",
      "           2       1.00      1.00      1.00       242\n",
      "           3       1.00      0.85      0.92        13\n",
      "\n",
      "    accuracy                           0.99       346\n",
      "   macro avg       0.97      0.96      0.96       346\n",
      "weighted avg       0.99      0.99      0.99       346\n",
      "\n"
     ]
    }
   ],
   "source": [
    "#2️⃣ 의사결정나무 (Decision Tree)\n",
    "from sklearn.tree import DecisionTreeClassifier\n",
    "\n",
    "# 모델 생성 및 학습\n",
    "model_dt = DecisionTreeClassifier(random_state=42)\n",
    "model_dt.fit(X_train, y_train)\n",
    "\n",
    "# 예측 및 평가\n",
    "y_pred_dt = model_dt.predict(X_test)\n",
    "acc_dt = accuracy_score(y_test, y_pred_dt)\n",
    "\n",
    "print(\"\\n🌳 [의사결정나무]\")\n",
    "print(f\"✅ 정확도: {acc_dt:.4f}\")\n",
    "print(classification_report(y_test, y_pred_dt))"
   ]
  },
  {
   "cell_type": "code",
   "execution_count": 26,
   "id": "4173a017-de5b-4f39-a79c-2840a3262ce4",
   "metadata": {},
   "outputs": [
    {
     "name": "stdout",
     "output_type": "stream",
     "text": [
      "\n",
      "🌲 [랜덤 포레스트]\n",
      "✅ 정확도: 0.9827\n",
      "              precision    recall  f1-score   support\n",
      "\n",
      "           0       0.95      0.97      0.96        77\n",
      "           1       1.00      0.93      0.96        14\n",
      "           2       0.99      0.99      0.99       242\n",
      "           3       1.00      0.92      0.96        13\n",
      "\n",
      "    accuracy                           0.98       346\n",
      "   macro avg       0.99      0.95      0.97       346\n",
      "weighted avg       0.98      0.98      0.98       346\n",
      "\n"
     ]
    }
   ],
   "source": [
    "#3️⃣ 랜덤 포레스트 (Random Forest)\n",
    "from sklearn.ensemble import RandomForestClassifier\n",
    "\n",
    "# 모델 생성 및 학습\n",
    "model_rf = RandomForestClassifier(n_estimators=100, random_state=42)\n",
    "model_rf.fit(X_train, y_train)\n",
    "\n",
    "# 예측 및 평가\n",
    "y_pred_rf = model_rf.predict(X_test)\n",
    "acc_rf = accuracy_score(y_test, y_pred_rf)\n",
    "\n",
    "print(\"\\n🌲 [랜덤 포레스트]\")\n",
    "print(f\"✅ 정확도: {acc_rf:.4f}\")\n",
    "print(classification_report(y_test, y_pred_rf))"
   ]
  },
  {
   "cell_type": "code",
   "execution_count": 27,
   "id": "578329c1-db29-4690-bd7e-dd2bf4dc886a",
   "metadata": {},
   "outputs": [
    {
     "name": "stdout",
     "output_type": "stream",
     "text": [
      "\n",
      "🎯 [서포트 벡터 머신]\n",
      "✅ 정확도: 0.7197\n",
      "              precision    recall  f1-score   support\n",
      "\n",
      "           0       0.52      0.14      0.22        77\n",
      "           1       0.00      0.00      0.00        14\n",
      "           2       0.73      0.98      0.84       242\n",
      "           3       0.00      0.00      0.00        13\n",
      "\n",
      "    accuracy                           0.72       346\n",
      "   macro avg       0.31      0.28      0.27       346\n",
      "weighted avg       0.63      0.72      0.64       346\n",
      "\n"
     ]
    },
    {
     "name": "stderr",
     "output_type": "stream",
     "text": [
      "C:\\Users\\Minseok\\anaconda3\\Lib\\site-packages\\sklearn\\metrics\\_classification.py:1531: UndefinedMetricWarning: Precision is ill-defined and being set to 0.0 in labels with no predicted samples. Use `zero_division` parameter to control this behavior.\n",
      "  _warn_prf(average, modifier, f\"{metric.capitalize()} is\", len(result))\n",
      "C:\\Users\\Minseok\\anaconda3\\Lib\\site-packages\\sklearn\\metrics\\_classification.py:1531: UndefinedMetricWarning: Precision is ill-defined and being set to 0.0 in labels with no predicted samples. Use `zero_division` parameter to control this behavior.\n",
      "  _warn_prf(average, modifier, f\"{metric.capitalize()} is\", len(result))\n",
      "C:\\Users\\Minseok\\anaconda3\\Lib\\site-packages\\sklearn\\metrics\\_classification.py:1531: UndefinedMetricWarning: Precision is ill-defined and being set to 0.0 in labels with no predicted samples. Use `zero_division` parameter to control this behavior.\n",
      "  _warn_prf(average, modifier, f\"{metric.capitalize()} is\", len(result))\n"
     ]
    }
   ],
   "source": [
    "# 4️⃣ 서포트 벡터 머신 (SVM)\n",
    "from sklearn.svm import SVC\n",
    "\n",
    "# 모델 생성 및 학습\n",
    "model_svm = SVC(kernel=\"linear\")\n",
    "model_svm.fit(X_train, y_train)\n",
    "\n",
    "# 예측 및 평가\n",
    "y_pred_svm = model_svm.predict(X_test)\n",
    "acc_svm = accuracy_score(y_test, y_pred_svm)\n",
    "\n",
    "print(\"\\n🎯 [서포트 벡터 머신]\")\n",
    "print(f\"✅ 정확도: {acc_svm:.4f}\")\n",
    "print(classification_report(y_test, y_pred_svm))"
   ]
  },
  {
   "cell_type": "code",
   "execution_count": 28,
   "id": "3531f950-2de8-4f7e-bf76-0c0d1d48fa9c",
   "metadata": {},
   "outputs": [
    {
     "name": "stdout",
     "output_type": "stream",
     "text": [
      "\n",
      "📌 [K-최근접 이웃]\n",
      "✅ 정확도: 0.9335\n",
      "              precision    recall  f1-score   support\n",
      "\n",
      "           0       0.87      0.86      0.86        77\n",
      "           1       0.89      0.57      0.70        14\n",
      "           2       0.95      1.00      0.97       242\n",
      "           3       1.00      0.62      0.76        13\n",
      "\n",
      "    accuracy                           0.93       346\n",
      "   macro avg       0.93      0.76      0.82       346\n",
      "weighted avg       0.93      0.93      0.93       346\n",
      "\n"
     ]
    }
   ],
   "source": [
    "#5️⃣ K-최근접 이웃 (K-Nearest Neighbors, KNN)\n",
    "from sklearn.neighbors import KNeighborsClassifier\n",
    "\n",
    "# 모델 생성 및 학습\n",
    "model_knn = KNeighborsClassifier(n_neighbors=5)\n",
    "model_knn.fit(X_train, y_train)\n",
    "\n",
    "# 예측 및 평가\n",
    "y_pred_knn = model_knn.predict(X_test)\n",
    "acc_knn = accuracy_score(y_test, y_pred_knn)\n",
    "\n",
    "print(\"\\n📌 [K-최근접 이웃]\")\n",
    "print(f\"✅ 정확도: {acc_knn:.4f}\")\n",
    "print(classification_report(y_test, y_pred_knn))"
   ]
  },
  {
   "cell_type": "code",
   "execution_count": null,
   "id": "85c97be9-15dd-403b-a97e-8f8a88c33e9c",
   "metadata": {},
   "outputs": [],
   "source": []
  }
 ],
 "metadata": {
  "kernelspec": {
   "display_name": "Python 3 (ipykernel)",
   "language": "python",
   "name": "python3"
  },
  "language_info": {
   "codemirror_mode": {
    "name": "ipython",
    "version": 3
   },
   "file_extension": ".py",
   "mimetype": "text/x-python",
   "name": "python",
   "nbconvert_exporter": "python",
   "pygments_lexer": "ipython3",
   "version": "3.12.7"
  }
 },
 "nbformat": 4,
 "nbformat_minor": 5
}
